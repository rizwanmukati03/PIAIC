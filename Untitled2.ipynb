{
 "cells": [
  {
   "cell_type": "code",
   "execution_count": 19,
   "metadata": {},
   "outputs": [
    {
     "data": {
      "text/plain": [
       "6810.0"
      ]
     },
     "execution_count": 19,
     "metadata": {},
     "output_type": "execute_result"
    }
   ],
   "source": [
    "2 + 4 * (65 + 4) / 1 + 56 ** 2 * 2 / 2 + (3 * 2) + 12 - 34 + 4 * (65 + 4) / 1 + 56 ** 2 * 2 / 2"
   ]
  },
  {
   "cell_type": "code",
   "execution_count": 24,
   "metadata": {},
   "outputs": [
    {
     "name": "stdout",
     "output_type": "stream",
     "text": [
      "Rizwan\n",
      "Mukati"
     ]
    }
   ],
   "source": [
    "print(\"Rizwan\",end=\"\\n\")\n",
    "print(\"Mukati\",end=\"\")"
   ]
  },
  {
   "cell_type": "code",
   "execution_count": 2,
   "metadata": {},
   "outputs": [
    {
     "name": "stdout",
     "output_type": "stream",
     "text": [
      "['honda', 'Yamaha', 'Suzuki']\n"
     ]
    }
   ],
   "source": [
    "motorcycles = [\"honda\",\"Yamaha\",\"Suzuki\"]\n",
    "print(motorcycles)"
   ]
  },
  {
   "cell_type": "code",
   "execution_count": 4,
   "metadata": {},
   "outputs": [
    {
     "name": "stdout",
     "output_type": "stream",
     "text": [
      "['honda', 'Yamaha', 'Suzuki', 'ducati']\n"
     ]
    }
   ],
   "source": [
    "motorcycles = [\"honda\",\"Yamaha\",\"Suzuki\"]\n",
    "motorcycles.append(\"ducati\")\n",
    "print(motorcycles)"
   ]
  },
  {
   "cell_type": "code",
   "execution_count": 5,
   "metadata": {},
   "outputs": [
    {
     "name": "stdout",
     "output_type": "stream",
     "text": [
      "['ducati', 'honda', 'Yamaha', 'Suzuki']\n"
     ]
    }
   ],
   "source": [
    "motorcycles = [\"honda\",\"Yamaha\",\"Suzuki\"]\n",
    "motorcycles.insert(0,\"ducati\")\n",
    "print(motorcycles)"
   ]
  },
  {
   "cell_type": "code",
   "execution_count": 6,
   "metadata": {},
   "outputs": [
    {
     "name": "stdout",
     "output_type": "stream",
     "text": [
      "['honda', 'Yamaha']\n"
     ]
    }
   ],
   "source": [
    "motorcycles = [\"honda\",\"Yamaha\",\"Suzuki\"]\n",
    "motorcycles.pop()\n",
    "print(motorcycles)"
   ]
  },
  {
   "cell_type": "code",
   "execution_count": 7,
   "metadata": {},
   "outputs": [
    {
     "name": "stdout",
     "output_type": "stream",
     "text": [
      "['honda', 'Suzuki']\n"
     ]
    }
   ],
   "source": [
    "motorcycles = [\"honda\",\"Yamaha\",\"Suzuki\"]\n",
    "motorcycles.pop(1)\n",
    "print(motorcycles)"
   ]
  },
  {
   "cell_type": "code",
   "execution_count": 8,
   "metadata": {},
   "outputs": [
    {
     "name": "stdout",
     "output_type": "stream",
     "text": [
      "['Yamaha', 'Suzuki']\n"
     ]
    }
   ],
   "source": [
    "motorcycles = [\"honda\",\"Yamaha\",\"Suzuki\"]\n",
    "motorcycles.remove(\"honda\")\n",
    "print(motorcycles)"
   ]
  },
  {
   "cell_type": "code",
   "execution_count": 9,
   "metadata": {},
   "outputs": [
    {
     "name": "stdout",
     "output_type": "stream",
     "text": [
      "['Suzuki', 'Yamaha', 'honda']\n"
     ]
    }
   ],
   "source": [
    "motorcycles = [\"honda\",\"Yamaha\",\"Suzuki\"]\n",
    "motorcycles.sort()\n",
    "print(motorcycles)"
   ]
  },
  {
   "cell_type": "code",
   "execution_count": 10,
   "metadata": {},
   "outputs": [
    {
     "name": "stdout",
     "output_type": "stream",
     "text": [
      "['honda', 'Yamaha', 'Suzuki']\n"
     ]
    }
   ],
   "source": [
    "motorcycles = [\"honda\",\"Yamaha\",\"Suzuki\"]\n",
    "motorcycles.sort(reverse = True)\n",
    "print(motorcycles)"
   ]
  },
  {
   "cell_type": "code",
   "execution_count": 11,
   "metadata": {},
   "outputs": [
    {
     "name": "stdout",
     "output_type": "stream",
     "text": [
      "['Suzuki', 'Yamaha', 'honda']\n"
     ]
    }
   ],
   "source": [
    "motorcycles = [\"honda\",\"Yamaha\",\"Suzuki\"]\n",
    "motorcycles.reverse()\n",
    "print(motorcycles)"
   ]
  },
  {
   "cell_type": "code",
   "execution_count": 15,
   "metadata": {},
   "outputs": [
    {
     "name": "stdout",
     "output_type": "stream",
     "text": [
      "Honda\n",
      "['honda', 'Yamaha', 'Suzuki']\n"
     ]
    }
   ],
   "source": [
    "motorcycles = [\"honda\",\"Yamaha\",\"Suzuki\"]\n",
    "print(motorcycles[0].title())\n",
    "print(motorcycles)"
   ]
  },
  {
   "cell_type": "code",
   "execution_count": 17,
   "metadata": {},
   "outputs": [
    {
     "name": "stdout",
     "output_type": "stream",
     "text": [
      "HONDA\n"
     ]
    }
   ],
   "source": [
    "motorcycles = [\"honda\",\"Yamaha\",\"Suzuki\"]\n",
    "print(motorcycles[0].upper())"
   ]
  },
  {
   "cell_type": "code",
   "execution_count": 18,
   "metadata": {},
   "outputs": [
    {
     "name": "stdout",
     "output_type": "stream",
     "text": [
      "honda\n"
     ]
    }
   ],
   "source": [
    "motorcycles = [\"HondA\",\"Yamaha\",\"Suzuki\"]\n",
    "print(motorcycles[0].lower())"
   ]
  },
  {
   "cell_type": "code",
   "execution_count": 25,
   "metadata": {},
   "outputs": [
    {
     "data": {
      "text/plain": [
       "'honda'"
      ]
     },
     "execution_count": 25,
     "metadata": {},
     "output_type": "execute_result"
    }
   ],
   "source": [
    "motorcycles = [\"honda  \",\"Yamaha\",\"Suzuki\"]\n",
    "motorcycles[0].rstrip()"
   ]
  },
  {
   "cell_type": "code",
   "execution_count": 22,
   "metadata": {},
   "outputs": [
    {
     "data": {
      "text/plain": [
       "'honda'"
      ]
     },
     "execution_count": 22,
     "metadata": {},
     "output_type": "execute_result"
    }
   ],
   "source": [
    "motorcycles = [\"   honda\",\"Yamaha\",\"Suzuki\"]\n",
    "motorcycles[0].lstrip()"
   ]
  },
  {
   "cell_type": "code",
   "execution_count": 23,
   "metadata": {},
   "outputs": [
    {
     "data": {
      "text/plain": [
       "'honda'"
      ]
     },
     "execution_count": 23,
     "metadata": {},
     "output_type": "execute_result"
    }
   ],
   "source": [
    "motorcycles = [\"   honda   \",\"Yamaha\",\"Suzuki\"]\n",
    "motorcycles[0].strip()"
   ]
  },
  {
   "cell_type": "code",
   "execution_count": null,
   "metadata": {},
   "outputs": [],
   "source": []
  }
 ],
 "metadata": {
  "kernelspec": {
   "display_name": "Python 3",
   "language": "python",
   "name": "python3"
  },
  "language_info": {
   "codemirror_mode": {
    "name": "ipython",
    "version": 3
   },
   "file_extension": ".py",
   "mimetype": "text/x-python",
   "name": "python",
   "nbconvert_exporter": "python",
   "pygments_lexer": "ipython3",
   "version": "3.7.3"
  }
 },
 "nbformat": 4,
 "nbformat_minor": 2
}
