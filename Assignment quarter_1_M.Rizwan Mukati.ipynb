{
 "cells": [
  {
   "cell_type": "code",
   "execution_count": 5,
   "metadata": {},
   "outputs": [
    {
     "name": "stdout",
     "output_type": "stream",
     "text": [
      "Input Radius: 0.5\n",
      "Area of Circle with radius 0.5 is 0.7855\n"
     ]
    }
   ],
   "source": [
    "#1.Calculate Area of a Circle\n",
    "Radius = float(input(\"Input Radius: \"))\n",
    "Area= Radius*Radius*3.142\n",
    "print('Area of Circle with radius {} is {}'.format(Radius,Area))\n"
   ]
  },
  {
   "cell_type": "code",
   "execution_count": null,
   "metadata": {},
   "outputs": [
    {
     "name": "stdout",
     "output_type": "stream",
     "text": [
      "Enter your number: -1\n",
      "Negative Number Entered\n",
      "Enter your number: 3\n",
      "Positive Number Entered\n",
      "Enter your number: 0\n",
      "Zero Entered\n"
     ]
    }
   ],
   "source": [
    "#2. Check Number either positive, negative or zero\n",
    "while True:\n",
    "    num = int(input(\"Enter your number: \"))\n",
    "    if num>=1:\n",
    "        print(\"Positive Number Entered\")\n",
    "    if num<=-1:\n",
    "        print(\"Negative Number Entered\")\n",
    "    if num == 0:\n",
    "        print(\"Zero Entered\")"
   ]
  },
  {
   "cell_type": "code",
   "execution_count": null,
   "metadata": {},
   "outputs": [
    {
     "name": "stdout",
     "output_type": "stream",
     "text": [
      "Enter Numerator7\n",
      "Enter Denominator4\n",
      "Number 7 is not Completely divisible by 4\n"
     ]
    }
   ],
   "source": [
    "#3. Divisibility Check of two numbers\n",
    "for n in range(1,3):\n",
    "    numerator = int(input(\"Enter Numerator\"))\n",
    "    Denominator = int(input(\"Enter Denominator\"))\n",
    "    if (numerator % Denominator) == 0:\n",
    "        print(\"Number\"+\" \" + str(numerator)+\" \"+\"is Completely divisible by \"+str(Denominator))\n",
    "    else: \n",
    "        print(\"Number\"+\" \" + str(numerator)+\" \"+\"is not Completely divisible by \"+str(Denominator))"
   ]
  },
  {
   "cell_type": "code",
   "execution_count": 3,
   "metadata": {},
   "outputs": [
    {
     "name": "stdout",
     "output_type": "stream",
     "text": [
      "Enter a date in (dd/mm/yy) format:12-12-2018\n",
      "Enter a date in (dd/mm/yy) format:16-12-2018\n",
      "There are 4 days in between 12-12-2018 and 16-12-2018\n"
     ]
    }
   ],
   "source": [
    "#4 Days Calculator\n",
    "from datetime import date\n",
    "date_input1 = input(\"Enter a date in (dd/mm/yy) format:\")\n",
    "d1 , m1 , y1 = map(int, date_input1.split(\"-\")) \n",
    "date_1 = date(y1, m1, d1)\n",
    "\n",
    "date_input2 = input(\"Enter a date in (dd/mm/yy) format:\")\n",
    "d2 , m2 , y2 = map(int, date_input2.split(\"-\")) \n",
    "date_2 = date(y2, m2, d2)\n",
    "\n",
    "\n",
    "\n",
    "delta = date_2 - date_1  \n",
    "\n",
    "print (\"There are \"+str(delta.days)+\" days in between \"+date_input1+ \" and \"+ date_input2)"
   ]
  },
  {
   "cell_type": "code",
   "execution_count": 1,
   "metadata": {},
   "outputs": [
    {
     "name": "stdout",
     "output_type": "stream",
     "text": [
      "Enter Radius of Sphere:1\n",
      "Volume of the Sphere with Radius 1.0 is 4.189333333333333\n"
     ]
    }
   ],
   "source": [
    "#5 Calculate Volume of a sphere\n",
    "Radius_sphere = float(input(\"Enter Radius of Sphere:\"))\n",
    "volume_sphere = (4/3)*3.142*(Radius_sphere**3)\n",
    "print(\"Volume of the Sphere with Radius \"+str(Radius_sphere)+\" is \"+str(volume_sphere))"
   ]
  },
  {
   "cell_type": "code",
   "execution_count": 23,
   "metadata": {},
   "outputs": [
    {
     "name": "stdout",
     "output_type": "stream",
     "text": [
      "Enter String:Hi\n",
      "How many copies of String you need:6\n",
      "6 Copies of Hi are HiHiHiHiHiHi\n"
     ]
    }
   ],
   "source": [
    "#6 Copy string n times\n",
    "\n",
    "text_print = input(\"Enter String:\")\n",
    "no_of_copies = int(input(\"How many copies of String you need:\"))\n",
    "text_print_copy = text_print\n",
    "for n in range(1,no_of_copies):\n",
    "        text_print_copy+=text_print\n",
    "\n",
    "print(str(no_of_copies)+\" Copies of \"+text_print + \" are \" + text_print_copy)\n"
   ]
  },
  {
   "cell_type": "code",
   "execution_count": null,
   "metadata": {},
   "outputs": [
    {
     "name": "stdout",
     "output_type": "stream",
     "text": [
      "Enter Number:8\n",
      "8 is Even\n",
      "Enter Number:5\n",
      "5 is Odd\n"
     ]
    }
   ],
   "source": [
    "#7.Check if number is Even or Odd\n",
    "while True:\n",
    "    entered_number = int(input(\"Enter Number:\"))\n",
    "    if entered_number%2 == 0:\n",
    "        print(str(entered_number),\"is Even\")\n",
    "    else: \n",
    "        print(str(entered_number),\"is Odd\")"
   ]
  },
  {
   "cell_type": "code",
   "execution_count": null,
   "metadata": {},
   "outputs": [
    {
     "name": "stdout",
     "output_type": "stream",
     "text": [
      "Enter a character: A\n",
      "Letter A is Vowel\n",
      "Enter a character: E\n",
      "Letter E is Vowel\n",
      "Enter a character: N\n",
      "Letter N is not Vowel\n"
     ]
    }
   ],
   "source": [
    "#8 Vowel Tester\n",
    "\n",
    "while True:\n",
    "    entered_character = input(\"Enter a character: \")\n",
    "    if entered_character.title() in ('A', 'E', 'I', 'O', 'U'):\n",
    "        print(\"Letter \"+entered_character.title()+\" is Vowel\")\n",
    "        \n",
    "    else:\n",
    "        print(\"Letter \"+entered_character.title()+\" is not Vowel\")\n",
    "      "
   ]
  },
  {
   "cell_type": "code",
   "execution_count": 4,
   "metadata": {},
   "outputs": [
    {
     "name": "stdout",
     "output_type": "stream",
     "text": [
      "Enter magnitude of Triangle base: 4\n",
      "Enter magnitude of Triangle Height: 4\n",
      "Area of a Triangle with Height 4 and Base 4 is 8.0\n"
     ]
    }
   ],
   "source": [
    "#9 Triangle area\n",
    "triangle_base = int(input(\"Enter magnitude of Triangle base: \"))\n",
    "triangle_height = int(input(\"Enter magnitude of Triangle Height: \"))\n",
    "area = 0.5 * triangle_base*triangle_height\n",
    "print(\"Area of a Triangle with Height \" +str(triangle_height)+ \" and Base \"+ str(triangle_base)+\" is \"+  str(area))\n"
   ]
  },
  {
   "cell_type": "code",
   "execution_count": 4,
   "metadata": {},
   "outputs": [
    {
     "name": "stdout",
     "output_type": "stream",
     "text": [
      "Please enter principal amount: 10000\n",
      "Please Enter Rate of interest in %: 0.1\n",
      "Enter number of years for investment:5\n",
      "After 5 years your principal amount 10000 over an interest rate of 0.1 % will be 16105.1\n"
     ]
    }
   ],
   "source": [
    "#10 Calculate Interest\n",
    "principal_amount = int(input(\"Please enter principal amount: \"))\n",
    "rate_interest = float(input(\"Please Enter Rate of interest in %: \"))\n",
    "investment_years = int(input(\"Enter number of years for investment:\"))\n",
    "future_value = principal_amount*((1+rate_interest)**investment_years)\n",
    "print(\"After \"+str(investment_years)+\" years your principal amount \"+ str(principal_amount)+\" over an interest rate of \" +str(rate_interest)+\" % will be \" + str(round(future_value,1)))\n"
   ]
  },
  {
   "cell_type": "code",
   "execution_count": 8,
   "metadata": {},
   "outputs": [
    {
     "name": "stdout",
     "output_type": "stream",
     "text": [
      "Enter Co-ordinate for x1: 2\n",
      "Enter Co-ordinate for x2: 4\n",
      "Enter Co-ordinate for y1: 4\n",
      "Enter Co-ordinate for y2: 4\n",
      "Distance between points(2 ,4) and (4 ,4) is 2.0\n"
     ]
    }
   ],
   "source": [
    "#11 Euclidean distance\n",
    "import math\n",
    "x1 = int(input(\"Enter Co-ordinate for x1: \"))\n",
    "x2 = int(input(\"Enter Co-ordinate for x2: \"))\n",
    "y1 = int(input(\"Enter Co-ordinate for y1: \"))\n",
    "y2 = int(input(\"Enter Co-ordinate for y2: \"))\n",
    "distance = math.sqrt(((x2-x1)**2)+((y2-y1)**2))\n",
    "print(\"Distance between points\"+\"(\"+str(x1)+\" ,\"+str(y1)+\")\"+\" and \"+ \"(\"+str(x2)+\" ,\"+str(y2)+\")\"+\" is \"+ str(distance))"
   ]
  },
  {
   "cell_type": "code",
   "execution_count": 9,
   "metadata": {},
   "outputs": [
    {
     "name": "stdout",
     "output_type": "stream",
     "text": [
      "Enter Height in Feet: 5\n",
      "There are 152.4 Cm in 5.0 ft\n"
     ]
    }
   ],
   "source": [
    "#12 Feet to Centimeter Converter\n",
    "feet = float(input(\"Enter Height in Feet: \"))\n",
    "cm = feet*30.48\n",
    "print(\"There are \"+str(cm)+ \" Cm in \" + str(feet)+\" ft\")\n",
    "\n"
   ]
  },
  {
   "cell_type": "code",
   "execution_count": 14,
   "metadata": {},
   "outputs": [
    {
     "name": "stdout",
     "output_type": "stream",
     "text": [
      "Enter Height in Cm: 180\n",
      "Enter Weight in Kg: 75\n",
      "Your BMI is 23.15\n"
     ]
    }
   ],
   "source": [
    "#13 BMI Calculator\n",
    "height = float(input(\"Enter Height in Cm: \"))\n",
    "weight = float(input(\"Enter Weight in Kg: \"))\n",
    "height_m = height/100\n",
    "BMI = (weight/height_m**2)\n",
    "print(\"Your BMI is \"+ str(round(BMI,2)))\n",
    "\n"
   ]
  },
  {
   "cell_type": "code",
   "execution_count": 12,
   "metadata": {},
   "outputs": [
    {
     "name": "stdout",
     "output_type": "stream",
     "text": [
      "Enter value of n: 6\n",
      "Sum of n Positive integers till 6 is 21\n"
     ]
    }
   ],
   "source": [
    "#14. Sum of n Positive Integers\n",
    "\n",
    "value = int(input(\"Enter value of n: \"))\n",
    "num = 0\n",
    "for i in range(1,value+1):\n",
    "    num = num + i \n",
    "\n",
    "print('Sum of n Positive integers till {} is {}'.format(value,num))"
   ]
  },
  {
   "cell_type": "code",
   "execution_count": 1,
   "metadata": {},
   "outputs": [
    {
     "name": "stdout",
     "output_type": "stream",
     "text": [
      "Enter a number: 15\n",
      "Sum is: 6\n",
      "Enter a number: 1234\n",
      "Sum is: 10\n"
     ]
    }
   ],
   "source": [
    "#15. Digits Sum of a Number\n",
    "for i in range(0,2):\n",
    "    total= 0\n",
    "    entered_num = int(input(\"Enter a number: \"))\n",
    "    while entered_num > 0:\n",
    "        digit = entered_num%10\n",
    "        total = total + digit\n",
    "        entered_num = entered_num//10\n",
    "    print(\"Sum is: \"+str(total))\n"
   ]
  },
  {
   "cell_type": "code",
   "execution_count": 30,
   "metadata": {},
   "outputs": [
    {
     "name": "stdout",
     "output_type": "stream",
     "text": [
      "Enter a decimal number: 32\n",
      "Binary Representation of 32 is 100000\n"
     ]
    }
   ],
   "source": [
    "#16 Decimal to Binary Converter\n",
    "remainder = []\n",
    "num_dec = int(input(\"Enter a decimal number: \"))\n",
    "entered_num = num_dec\n",
    "while (entered_num > 0):\n",
    "    a = entered_num % 2\n",
    "    remainder.append(a)\n",
    "    entered_num = entered_num//2\n",
    "#print(remainder[::-1])\n",
    "string=\"\"\n",
    "for remainder_values in remainder[::-1]:\n",
    "    string=string+str(remainder_values)\n",
    "print('Binary Representation of {} is {}'.format(num_dec,string))"
   ]
  },
  {
   "cell_type": "code",
   "execution_count": 42,
   "metadata": {},
   "outputs": [
    {
     "name": "stdout",
     "output_type": "stream",
     "text": [
      "Enter a Binary number: 1001\n",
      "Decimal Representation of 1001 is 9\n"
     ]
    }
   ],
   "source": [
    "#17 Binary to Decimal Converter\n",
    "binary_number = input(\"Enter a Binary number: \")\n",
    "decimal_number = int(binary_number,2)\n",
    "print('Decimal Representation of {} is {}'.format(binary_number,decimal_number))"
   ]
  },
  {
   "cell_type": "code",
   "execution_count": 3,
   "metadata": {},
   "outputs": [
    {
     "name": "stdout",
     "output_type": "stream",
     "text": [
      "Enter text: QuickBrownFoxJumpsovertheDog\n",
      "Vowels: 9\n",
      "Consonants: 19\n"
     ]
    }
   ],
   "source": [
    "#18\tVowel and Consonants Counter\n",
    "str1 = input (\"Enter text: \")\n",
    "vowels = 0\n",
    "consonants = 0\n",
    "for i in str1:\n",
    "    if (i == \"a\" or i == \"A\" or i == \"e\" or i == \"E\" or i == \"i\"\n",
    "        or i == \"I\" or i == \"o\" or i == \"O\" or i == \"u\" or i == \"U\"):\n",
    "        vowels = vowels + 1\n",
    "    else:\n",
    "        consonants = consonants + 1\n",
    "print(\"Vowels: \" + str(vowels))\n",
    "print(\"Consonants: \" + str(consonants))\n"
   ]
  },
  {
   "cell_type": "code",
   "execution_count": null,
   "metadata": {},
   "outputs": [
    {
     "name": "stdout",
     "output_type": "stream",
     "text": [
      "Enter Text: AHA\n",
      "Text AHA is Palindrome \n",
      "Enter Text: Hello\n",
      "Text Hello is not a Palindrome \n"
     ]
    }
   ],
   "source": [
    "#19\tPalindrome tester\n",
    "while True:\n",
    "    my_str = input(\"Enter Text: \")\n",
    "    my_str1 = my_str.casefold()\n",
    "    rev_str = reversed(my_str1)\n",
    "\n",
    "# check if the string is equal to its reverse\n",
    "    if list(rev_str) == list(my_str1):\n",
    "        print('Text {} is Palindrome '.format(my_str))\n",
    "    else:\n",
    "        print('Text {} is not a Palindrome '.format(my_str))"
   ]
  },
  {
   "cell_type": "code",
   "execution_count": 29,
   "metadata": {},
   "outputs": [
    {
     "name": "stdout",
     "output_type": "stream",
     "text": [
      "Enter Text: Python 3.2\n",
      "Numbers = 2\n",
      "Alphabets = 6\n",
      "Special Characters = 1\n",
      "Spaces = 1\n"
     ]
    }
   ],
   "source": [
    "#20 Count Alphabets, Numbers and Special Characters\n",
    "entered_text = input(\"Enter Text: \")\n",
    "num = alp = sc = s = 0\n",
    "for c in entered_text:\n",
    "    if c.isdigit():\n",
    "        num = num + 1\n",
    "    elif c.isalpha():\n",
    "        alp = alp + 1\n",
    "    elif c.isspace():\n",
    "        s = s + 1\n",
    "    else:\n",
    "        sc = sc + 1\n",
    "        \n",
    "print(\"Numbers = \" + str(num))\n",
    "print(\"Alphabets = \" + str(alp))\n",
    "print(\"Special Characters = \" + str(sc))\n",
    "print(\"Spaces = \" + str(s))"
   ]
  },
  {
   "cell_type": "code",
   "execution_count": 65,
   "metadata": {},
   "outputs": [
    {
     "name": "stdout",
     "output_type": "stream",
     "text": [
      "\n",
      "*\n",
      "**\n",
      "***\n",
      "****\n",
      "*****\n",
      "****\n",
      "***\n",
      "**\n",
      "*\n"
     ]
    }
   ],
   "source": [
    "#21 Write a Python program to construct the following pattern\n",
    "n = 5\n",
    "for i in range(n):\n",
    "    for j in range(i):\n",
    "        print(\"*\",end=\"\")\n",
    "    print(\"\")    \n",
    "for i in range(n,0,-1):\n",
    "    for j in range(i):\n",
    "        print(\"*\",end=\"\")\n",
    "    print(\"\")"
   ]
  },
  {
   "cell_type": "code",
   "execution_count": 93,
   "metadata": {},
   "outputs": [
    {
     "name": "stdout",
     "output_type": "stream",
     "text": [
      "1\n",
      "12\n",
      "123\n",
      "1234\n",
      "12345\n",
      "1234\n",
      "123\n",
      "12\n",
      "1\n",
      "\n",
      "\n"
     ]
    }
   ],
   "source": [
    "#22.Write a Python program to construct the following pattern\n",
    "\n",
    "n = 6\n",
    "for i in range(1,n):\n",
    "    for j in range(1,i+1):\n",
    "        print(j,end=\"\")\n",
    "    print(\"\")    \n",
    "for i in range(n,0,-1):\n",
    "    for j in range(1,i-1):\n",
    "        print(j,end=\"\")\n",
    "    print(\"\")"
   ]
  },
  {
   "cell_type": "code",
   "execution_count": 100,
   "metadata": {},
   "outputs": [
    {
     "name": "stdout",
     "output_type": "stream",
     "text": [
      "1\n",
      "22\n",
      "333\n",
      "4444\n",
      "55555\n",
      "666666\n",
      "7777777\n",
      "88888888\n",
      "999999999\n"
     ]
    }
   ],
   "source": [
    "#23. Write a Python program to construct the following pattern\n",
    "n = 10\n",
    "for i in range(1,n):\n",
    "    for j in range(i):\n",
    "        print(i, end=\"\")\n",
    "    print(\"\")    \n"
   ]
  }
 ],
 "metadata": {
  "kernelspec": {
   "display_name": "Python 3",
   "language": "python",
   "name": "python3"
  },
  "language_info": {
   "codemirror_mode": {
    "name": "ipython",
    "version": 3
   },
   "file_extension": ".py",
   "mimetype": "text/x-python",
   "name": "python",
   "nbconvert_exporter": "python",
   "pygments_lexer": "ipython3",
   "version": "3.7.3"
  }
 },
 "nbformat": 4,
 "nbformat_minor": 2
}
